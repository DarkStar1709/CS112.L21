{
 "metadata": {
  "language_info": {
   "codemirror_mode": {
    "name": "ipython",
    "version": 3
   },
   "file_extension": ".py",
   "mimetype": "text/x-python",
   "name": "python",
   "nbconvert_exporter": "python",
   "pygments_lexer": "ipython3",
   "version": "3.9.2-final"
  },
  "orig_nbformat": 2,
  "kernelspec": {
   "name": "python3",
   "display_name": "Python 3.9.2 64-bit",
   "metadata": {
    "interpreter": {
     "hash": "381a7ae8d7e056fb966701069795ec67acbaeb5fbc2ac126e4b826837b4e3a3b"
    }
   }
  }
 },
 "nbformat": 4,
 "nbformat_minor": 2,
 "cells": [
  {
   "source": [
    "# Nhóm 12 : Báo cáo tảo biển + trạm thu phí\n",
    "## bài 1:\n",
    "### 1.Abstraction: Tìm số tảo biển sinh ra trong ngày thứ k của n số tảo ban đầu biết sau 1 ngày thì các cá thể mức i sinh ra i cá thể mức 1 và phát triển thành mức i+1 trong ngày hôm đó\n",
    "### 2.Pattern Recognition:\n",
    "#### Dạng bài: Quy hoạch động. \n",
    "#### Đặc điểm nhận dạng: sau mỗi ngày (số lần lặp) số lượng cá thể tăng theo nguyên tắc nhất định. Mỗi ngày số lượng tảo tăng theo một công thức và ngày hôm sau sẽ bao gồm công thức tính của ngày hôm trước\n",
    "### 3. Algorithm design:\n"
   ],
   "cell_type": "markdown",
   "metadata": {}
  },
  {
   "source": [
    "<center><img src=\"./Capture.png\"/></center>"
   ],
   "cell_type": "markdown",
   "metadata": {}
  },
  {
   "source": [
    "### 4. độ phức tạp thuật toán O(k)\n",
    "## bài 2:\n",
    "### 1.Abstraction: cho n và n số. In ra đoạn có tổng lớn nhất và giá trị của tổng đó (nếu có nhiều đoạn thì lấy đoạn có điểm bắt đầu nhỏ hơn)\n",
    "### 2.Pattern Recognition:\n",
    "#### dạng bài: vét cạn \n",
    "#### Có tổng số phần tử và phải duyệt hết các phần tử để tìm đoạn mảng thỏa điều kiện\n",
    "### 3. Algorithm design:\n",
    "<center><img src=\"./capture2.png\"/></center>\n"
   ],
   "cell_type": "markdown",
   "metadata": {}
  },
  {
   "source": [
    "### 4. Độ phức tạp thuật toán O(n)"
   ],
   "cell_type": "markdown",
   "metadata": {}
  }
 ]
}